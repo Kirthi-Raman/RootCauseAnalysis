{
 "cells": [
  {
   "cell_type": "markdown",
   "metadata": {},
   "source": [
    "# Root Cause Analysis\n",
    "\n",
    "Incident Root Cause Analysis can be employed to determine the reason of issues stated in Incident Reports"
   ]
  },
  {
   "cell_type": "code",
   "execution_count": 2,
   "metadata": {},
   "outputs": [
    {
     "name": "stdout",
     "output_type": "stream",
     "text": [
      "Collecting package metadata (repodata.json): ...working... done\n",
      "Solving environment: ...working... \n",
      "Warning: >10 possible package resolutions (only showing differing packages):\n",
      "  - https://repo.continuum.io/pkgs/main/win-64/_ipyw_jlab_nb_ext_conf-0.1.0-py36he6757f0_0.tar.bz2/win-64::_ipyw_jlab_nb_ext_conf-0.1.0-py36he6757f0_0, https://repo.continuum.io/pkgs/main/win-64/conda-env-2.6.0-h36134e3_1.tar.bz2/win-64::conda-env-2.6.0-h36134e3_1, https://repo.continuum.io/pkgs/main/win-64/navigator-updater-0.1.0-py36h8a7b86b_0.tar.bz2/win-64::navigator-updater-0.1.0-py36h8a7b86b_0, https://repo.continuum.io/pkgs/main/win-64/win-64::python-graphviz-0.8.3-py36_0\n",
      "  - defaults/win-64::conda-env-2.6.0-h36134e3_1, https://repo.continuum.io/pkgs/main/win-64/_ipyw_jlab_nb_ext_conf-0.1.0-py36he6757f0_0.tar.bz2/win-64::_ipyw_jlab_nb_ext_conf-0.1.0-py36he6757f0_0, https://repo.continuum.io/pkgs/main/win-64/navigator-updater-0.1.0-py36h8a7b86b_0.tar.bz2/win-64::navigator-updater-0.1.0-py36h8a7b86b_0, https://repo.continuum.io/pkgs/main/win-64/win-64::python-graphviz-0.8.3-py36_0\n",
      "  - defaults/win-64::python-graphviz-0.8.3-py36_0, https://repo.continuum.io/pkgs/main/win-64/_ipyw_jlab_nb_ext_conf-0.1.0-py36he6757f0_0.tar.bz2/win-64::_ipyw_jlab_nb_ext_conf-0.1.0-py36he6757f0_0, https://repo.continuum.io/pkgs/main/win-64/conda-env-2.6.0-h36134e3_1.tar.bz2/win-64::conda-env-2.6.0-h36134e3_1, https://repo.continuum.io/pkgs/main/win-64/navigator-updater-0.1.0-py36h8a7b86b_0.tar.bz2/win-64::navigator-updater-0.1.0-py36h8a7b86b_0\n",
      "  - defaults/win-64::conda-env-2.6.0-h36134e3_1, defaults/win-64::python-graphviz-0.8.3-py36_0, https://repo.continuum.io/pkgs/main/win-64/_ipyw_jlab_nb_ext_conf-0.1.0-py36he6757f0_0.tar.bz2/win-64::_ipyw_jlab_nb_ext_conf-0.1.0-py36he6757f0_0, https://repo.continuum.io/pkgs/main/win-64/navigator-updater-0.1.0-py36h8a7b86b_0.tar.bz2/win-64::navigator-updater-0.1.0-py36h8a7b86b_0\n",
      "  - defaults/win-64::_ipyw_jlab_nb_ext_conf-0.1.0-py36he6757f0_0, defaults/win-64::python-graphviz-0.8.3-py36_0, https://repo.continuum.io/pkgs/main/win-64/conda-env-2.6.0-h36134e3_1.tar.bz2/win-64::conda-env-2.6.0-h36134e3_1, https://repo.continuum.io/pkgs/main/win-64/navigator-updater-0.1.0-py36h8a7b86b_0.tar.bz2/win-64::navigator-updater-0.1.0-py36h8a7b86b_0\n",
      "  - defaults/win-64::_ipyw_jlab_nb_ext_conf-0.1.0-py36he6757f0_0, defaults/win-64::conda-env-2.6.0-h36134e3_1, defaults/win-64::python-graphviz-0.8.3-py36_0, https://repo.continuum.io/pkgs/main/win-64/navigator-updater-0.1.0-py36h8a7b86b_0.tar.bz2/win-64::navigator-updater-0.1.0-py36h8a7b86b_0\n",
      "  - defaults/win-64::_ipyw_jlab_nb_ext_conf-0.1.0-py36he6757f0_0, https://repo.continuum.io/pkgs/main/win-64/conda-env-2.6.0-h36134e3_1.tar.bz2/win-64::conda-env-2.6.0-h36134e3_1, https://repo.continuum.io/pkgs/main/win-64/navigator-updater-0.1.0-py36h8a7b86b_0.tar.bz2/win-64::navigator-updater-0.1.0-py36h8a7b86b_0, https://repo.continuum.io/pkgs/main/win-64/win-64::python-graphviz-0.8.3-py36_0\n",
      "  - defaults/win-64::_ipyw_jlab_nb_ext_conf-0.1.0-py36he6757f0_0, defaults/win-64::conda-env-2.6.0-h36134e3_1, https://repo.continuum.io/pkgs/main/win-64/navigator-updater-0.1.0-py36h8a7b86b_0.tar.bz2/win-64::navigator-updater-0.1.0-py36h8a7b86b_0, https://repo.continuum.io/pkgs/main/win-64/win-64::python-graphviz-0.8.3-py36_0\n",
      "  - defaults/win-64::_ipyw_jlab_nb_ext_conf-0.1.0-py36he6757f0_0, defaults/win-64::navigator-updater-0.1.0-py36h8a7b86b_0, https://repo.continuum.io/pkgs/main/win-64/conda-env-2.6.0-h36134e3_1.tar.bz2/win-64::conda-env-2.6.0-h36134e3_1, https://repo.continuum.io/pkgs/main/win-64/win-64::python-graphviz-0.8.3-py36_0\n",
      "  - defaults/win-64::navigator-updater-0.1.0-py36h8a7b86b_0, https://repo.continuum.io/pkgs/main/win-64/_ipyw_jlab_nb_ext_conf-0.1.0-py36he6757f0_0.tar.bz2/win-64::_ipyw_jlab_nb_ext_conf-0.1.0-py36he6757f0_0, https://repo.continuum.io/pkgs/main/win-64/conda-env-2.6.0-h36134e3_1.tar.bz2/win-64::conda-env-2.6.0-h36134e3_1, https://repo.continuum.io/pkgs/main/win-64/win-64::python-graphviz-0.8.3-py36_0\n",
      "  ... and othersdone\n",
      "\n",
      "## Package Plan ##\n",
      "\n",
      "  environment location: C:\\Users\\thathrav\\Anaconda3\n",
      "\n",
      "  added / updated specs:\n",
      "    - pandas\n",
      "    - scikit-learn\n",
      "    - tensorflow\n",
      "\n",
      "\n",
      "The following packages will be downloaded:\n",
      "\n",
      "    package                    |            build\n",
      "    ---------------------------|-----------------\n",
      "    ca-certificates-2021.1.19  |       haa95532_0         160 KB\n",
      "    ------------------------------------------------------------\n",
      "                                           Total:         160 KB\n",
      "\n",
      "The following packages will be UPDATED:\n",
      "\n",
      "  ca-certificates                      2020.12.8-haa95532_0 --> 2021.1.19-haa95532_0\n",
      "\n",
      "\n",
      "\n",
      "Downloading and Extracting Packages\n",
      "\n",
      "ca-certificates-2021 | 160 KB    |            |   0% \n",
      "ca-certificates-2021 | 160 KB    | #          |  10% \n",
      "ca-certificates-2021 | 160 KB    | ########## | 100% \n",
      "ca-certificates-2021 | 160 KB    | ########## | 100% \n",
      "Preparing transaction: ...working... done\n",
      "Verifying transaction: ...working... done\n",
      "Executing transaction: ...working... done\n"
     ]
    }
   ],
   "source": [
    "# Install the packages\n",
    "import sys\n",
    "!conda install --yes --prefix {sys.prefix} pandas tensorflow scikit-learn"
   ]
  },
  {
   "cell_type": "code",
   "execution_count": 3,
   "metadata": {},
   "outputs": [
    {
     "name": "stderr",
     "output_type": "stream",
     "text": [
      "C:\\Users\\thathrav\\Anaconda3\\lib\\site-packages\\h5py\\__init__.py:36: FutureWarning: Conversion of the second argument of issubdtype from `float` to `np.floating` is deprecated. In future, it will be treated as `np.float64 == np.dtype(float).type`.\n",
      "  from ._conv import register_converters as _register_converters\n"
     ]
    }
   ],
   "source": [
    "# Loading Dataset\n",
    "import pandas as pd\n",
    "import os\n",
    "import tensorflow as tf\n",
    "\n",
    "# Load the dataset into pandas dataframe\n",
    "symptom_data = pd.read_csv('root_cause_analysis.csv')"
   ]
  },
  {
   "cell_type": "markdown",
   "metadata": {},
   "source": [
    "### Explore the dataset"
   ]
  },
  {
   "cell_type": "code",
   "execution_count": 4,
   "metadata": {},
   "outputs": [
    {
     "data": {
      "text/plain": [
       "ID              int64\n",
       "CPU_LOAD        int64\n",
       "MEMORY_LOAD     int64\n",
       "DELAY           int64\n",
       "ERROR_1000      int64\n",
       "ERROR_1001      int64\n",
       "ERROR_1002      int64\n",
       "ERROR_1003      int64\n",
       "ROOT_CAUSE     object\n",
       "dtype: object"
      ]
     },
     "execution_count": 4,
     "metadata": {},
     "output_type": "execute_result"
    }
   ],
   "source": [
    "# determine the dataset datatypes\n",
    "symptom_data.dtypes"
   ]
  },
  {
   "cell_type": "code",
   "execution_count": 5,
   "metadata": {},
   "outputs": [
    {
     "data": {
      "text/html": [
       "<div>\n",
       "<style scoped>\n",
       "    .dataframe tbody tr th:only-of-type {\n",
       "        vertical-align: middle;\n",
       "    }\n",
       "\n",
       "    .dataframe tbody tr th {\n",
       "        vertical-align: top;\n",
       "    }\n",
       "\n",
       "    .dataframe thead th {\n",
       "        text-align: right;\n",
       "    }\n",
       "</style>\n",
       "<table border=\"1\" class=\"dataframe\">\n",
       "  <thead>\n",
       "    <tr style=\"text-align: right;\">\n",
       "      <th></th>\n",
       "      <th>ID</th>\n",
       "      <th>CPU_LOAD</th>\n",
       "      <th>MEMORY_LOAD</th>\n",
       "      <th>DELAY</th>\n",
       "      <th>ERROR_1000</th>\n",
       "      <th>ERROR_1001</th>\n",
       "      <th>ERROR_1002</th>\n",
       "      <th>ERROR_1003</th>\n",
       "      <th>ROOT_CAUSE</th>\n",
       "    </tr>\n",
       "  </thead>\n",
       "  <tbody>\n",
       "    <tr>\n",
       "      <th>0</th>\n",
       "      <td>1</td>\n",
       "      <td>0</td>\n",
       "      <td>0</td>\n",
       "      <td>0</td>\n",
       "      <td>0</td>\n",
       "      <td>1</td>\n",
       "      <td>0</td>\n",
       "      <td>1</td>\n",
       "      <td>MEMORY</td>\n",
       "    </tr>\n",
       "    <tr>\n",
       "      <th>1</th>\n",
       "      <td>2</td>\n",
       "      <td>0</td>\n",
       "      <td>0</td>\n",
       "      <td>0</td>\n",
       "      <td>0</td>\n",
       "      <td>0</td>\n",
       "      <td>0</td>\n",
       "      <td>1</td>\n",
       "      <td>MEMORY</td>\n",
       "    </tr>\n",
       "    <tr>\n",
       "      <th>2</th>\n",
       "      <td>3</td>\n",
       "      <td>0</td>\n",
       "      <td>1</td>\n",
       "      <td>1</td>\n",
       "      <td>0</td>\n",
       "      <td>0</td>\n",
       "      <td>1</td>\n",
       "      <td>1</td>\n",
       "      <td>MEMORY</td>\n",
       "    </tr>\n",
       "    <tr>\n",
       "      <th>3</th>\n",
       "      <td>4</td>\n",
       "      <td>0</td>\n",
       "      <td>1</td>\n",
       "      <td>0</td>\n",
       "      <td>1</td>\n",
       "      <td>1</td>\n",
       "      <td>0</td>\n",
       "      <td>1</td>\n",
       "      <td>MEMORY</td>\n",
       "    </tr>\n",
       "    <tr>\n",
       "      <th>4</th>\n",
       "      <td>5</td>\n",
       "      <td>1</td>\n",
       "      <td>1</td>\n",
       "      <td>0</td>\n",
       "      <td>1</td>\n",
       "      <td>0</td>\n",
       "      <td>1</td>\n",
       "      <td>0</td>\n",
       "      <td>NETWORK_DELAY</td>\n",
       "    </tr>\n",
       "  </tbody>\n",
       "</table>\n",
       "</div>"
      ],
      "text/plain": [
       "   ID  CPU_LOAD  MEMORY_LOAD  DELAY  ERROR_1000  ERROR_1001  ERROR_1002  \\\n",
       "0   1         0            0      0           0           1           0   \n",
       "1   2         0            0      0           0           0           0   \n",
       "2   3         0            1      1           0           0           1   \n",
       "3   4         0            1      0           1           1           0   \n",
       "4   5         1            1      0           1           0           1   \n",
       "\n",
       "   ERROR_1003     ROOT_CAUSE  \n",
       "0           1         MEMORY  \n",
       "1           1         MEMORY  \n",
       "2           1         MEMORY  \n",
       "3           1         MEMORY  \n",
       "4           0  NETWORK_DELAY  "
      ]
     },
     "execution_count": 5,
     "metadata": {},
     "output_type": "execute_result"
    }
   ],
   "source": [
    "symptom_data.head()"
   ]
  },
  {
   "cell_type": "code",
   "execution_count": 6,
   "metadata": {},
   "outputs": [
    {
     "data": {
      "text/html": [
       "<div>\n",
       "<style scoped>\n",
       "    .dataframe tbody tr th:only-of-type {\n",
       "        vertical-align: middle;\n",
       "    }\n",
       "\n",
       "    .dataframe tbody tr th {\n",
       "        vertical-align: top;\n",
       "    }\n",
       "\n",
       "    .dataframe thead th {\n",
       "        text-align: right;\n",
       "    }\n",
       "</style>\n",
       "<table border=\"1\" class=\"dataframe\">\n",
       "  <thead>\n",
       "    <tr style=\"text-align: right;\">\n",
       "      <th></th>\n",
       "      <th>ID</th>\n",
       "      <th>CPU_LOAD</th>\n",
       "      <th>MEMORY_LOAD</th>\n",
       "      <th>DELAY</th>\n",
       "      <th>ERROR_1000</th>\n",
       "      <th>ERROR_1001</th>\n",
       "      <th>ERROR_1002</th>\n",
       "      <th>ERROR_1003</th>\n",
       "    </tr>\n",
       "  </thead>\n",
       "  <tbody>\n",
       "    <tr>\n",
       "      <th>count</th>\n",
       "      <td>1000.000000</td>\n",
       "      <td>1000.000000</td>\n",
       "      <td>1000.000000</td>\n",
       "      <td>1000.000000</td>\n",
       "      <td>1000.000000</td>\n",
       "      <td>1000.000000</td>\n",
       "      <td>1000.000000</td>\n",
       "      <td>1000.000000</td>\n",
       "    </tr>\n",
       "    <tr>\n",
       "      <th>mean</th>\n",
       "      <td>500.500000</td>\n",
       "      <td>0.472000</td>\n",
       "      <td>0.418000</td>\n",
       "      <td>0.394000</td>\n",
       "      <td>0.395000</td>\n",
       "      <td>0.485000</td>\n",
       "      <td>0.432000</td>\n",
       "      <td>0.381000</td>\n",
       "    </tr>\n",
       "    <tr>\n",
       "      <th>std</th>\n",
       "      <td>288.819436</td>\n",
       "      <td>0.499465</td>\n",
       "      <td>0.493477</td>\n",
       "      <td>0.488879</td>\n",
       "      <td>0.489095</td>\n",
       "      <td>0.500025</td>\n",
       "      <td>0.495602</td>\n",
       "      <td>0.485876</td>\n",
       "    </tr>\n",
       "    <tr>\n",
       "      <th>min</th>\n",
       "      <td>1.000000</td>\n",
       "      <td>0.000000</td>\n",
       "      <td>0.000000</td>\n",
       "      <td>0.000000</td>\n",
       "      <td>0.000000</td>\n",
       "      <td>0.000000</td>\n",
       "      <td>0.000000</td>\n",
       "      <td>0.000000</td>\n",
       "    </tr>\n",
       "    <tr>\n",
       "      <th>25%</th>\n",
       "      <td>250.750000</td>\n",
       "      <td>0.000000</td>\n",
       "      <td>0.000000</td>\n",
       "      <td>0.000000</td>\n",
       "      <td>0.000000</td>\n",
       "      <td>0.000000</td>\n",
       "      <td>0.000000</td>\n",
       "      <td>0.000000</td>\n",
       "    </tr>\n",
       "    <tr>\n",
       "      <th>50%</th>\n",
       "      <td>500.500000</td>\n",
       "      <td>0.000000</td>\n",
       "      <td>0.000000</td>\n",
       "      <td>0.000000</td>\n",
       "      <td>0.000000</td>\n",
       "      <td>0.000000</td>\n",
       "      <td>0.000000</td>\n",
       "      <td>0.000000</td>\n",
       "    </tr>\n",
       "    <tr>\n",
       "      <th>75%</th>\n",
       "      <td>750.250000</td>\n",
       "      <td>1.000000</td>\n",
       "      <td>1.000000</td>\n",
       "      <td>1.000000</td>\n",
       "      <td>1.000000</td>\n",
       "      <td>1.000000</td>\n",
       "      <td>1.000000</td>\n",
       "      <td>1.000000</td>\n",
       "    </tr>\n",
       "    <tr>\n",
       "      <th>max</th>\n",
       "      <td>1000.000000</td>\n",
       "      <td>1.000000</td>\n",
       "      <td>1.000000</td>\n",
       "      <td>1.000000</td>\n",
       "      <td>1.000000</td>\n",
       "      <td>1.000000</td>\n",
       "      <td>1.000000</td>\n",
       "      <td>1.000000</td>\n",
       "    </tr>\n",
       "  </tbody>\n",
       "</table>\n",
       "</div>"
      ],
      "text/plain": [
       "                ID     CPU_LOAD  MEMORY_LOAD        DELAY   ERROR_1000  \\\n",
       "count  1000.000000  1000.000000  1000.000000  1000.000000  1000.000000   \n",
       "mean    500.500000     0.472000     0.418000     0.394000     0.395000   \n",
       "std     288.819436     0.499465     0.493477     0.488879     0.489095   \n",
       "min       1.000000     0.000000     0.000000     0.000000     0.000000   \n",
       "25%     250.750000     0.000000     0.000000     0.000000     0.000000   \n",
       "50%     500.500000     0.000000     0.000000     0.000000     0.000000   \n",
       "75%     750.250000     1.000000     1.000000     1.000000     1.000000   \n",
       "max    1000.000000     1.000000     1.000000     1.000000     1.000000   \n",
       "\n",
       "        ERROR_1001   ERROR_1002   ERROR_1003  \n",
       "count  1000.000000  1000.000000  1000.000000  \n",
       "mean      0.485000     0.432000     0.381000  \n",
       "std       0.500025     0.495602     0.485876  \n",
       "min       0.000000     0.000000     0.000000  \n",
       "25%       0.000000     0.000000     0.000000  \n",
       "50%       0.000000     0.000000     0.000000  \n",
       "75%       1.000000     1.000000     1.000000  \n",
       "max       1.000000     1.000000     1.000000  "
      ]
     },
     "execution_count": 6,
     "metadata": {},
     "output_type": "execute_result"
    }
   ],
   "source": [
    "symptom_data.describe()"
   ]
  },
  {
   "cell_type": "code",
   "execution_count": 7,
   "metadata": {},
   "outputs": [
    {
     "data": {
      "text/plain": [
       "<bound method DataFrame.info of        ID  CPU_LOAD  MEMORY_LOAD  DELAY  ERROR_1000  ERROR_1001  ERROR_1002  \\\n",
       "0       1         0            0      0           0           1           0   \n",
       "1       2         0            0      0           0           0           0   \n",
       "2       3         0            1      1           0           0           1   \n",
       "3       4         0            1      0           1           1           0   \n",
       "4       5         1            1      0           1           0           1   \n",
       "..    ...       ...          ...    ...         ...         ...         ...   \n",
       "995   996         0            0      0           0           0           0   \n",
       "996   997         0            0      0           1           0           0   \n",
       "997   998         1            1      1           0           0           0   \n",
       "998   999         0            1      1           1           1           0   \n",
       "999  1000         1            0      0           0           1           1   \n",
       "\n",
       "     ERROR_1003      ROOT_CAUSE  \n",
       "0             1          MEMORY  \n",
       "1             1          MEMORY  \n",
       "2             1          MEMORY  \n",
       "3             1          MEMORY  \n",
       "4             0   NETWORK_DELAY  \n",
       "..          ...             ...  \n",
       "995           1  DATABASE_ISSUE  \n",
       "996           0   NETWORK_DELAY  \n",
       "997           0          MEMORY  \n",
       "998           0   NETWORK_DELAY  \n",
       "999           0  DATABASE_ISSUE  \n",
       "\n",
       "[1000 rows x 9 columns]>"
      ]
     },
     "execution_count": 7,
     "metadata": {},
     "output_type": "execute_result"
    }
   ],
   "source": [
    "symptom_data.info"
   ]
  },
  {
   "cell_type": "markdown",
   "metadata": {},
   "source": [
    "### Data Conversion"
   ]
  },
  {
   "cell_type": "code",
   "execution_count": 8,
   "metadata": {},
   "outputs": [],
   "source": [
    "# Data to be converted so that it can be provided to ML algorithm\n",
    "from sklearn import preprocessing"
   ]
  },
  {
   "cell_type": "code",
   "execution_count": 9,
   "metadata": {},
   "outputs": [],
   "source": [
    "label_encoder = preprocessing.LabelEncoder()\n",
    "symptom_data['ROOT_CAUSE']=label_encoder.fit_transform(symptom_data['ROOT_CAUSE'])"
   ]
  },
  {
   "cell_type": "code",
   "execution_count": 10,
   "metadata": {},
   "outputs": [
    {
     "data": {
      "text/html": [
       "<div>\n",
       "<style scoped>\n",
       "    .dataframe tbody tr th:only-of-type {\n",
       "        vertical-align: middle;\n",
       "    }\n",
       "\n",
       "    .dataframe tbody tr th {\n",
       "        vertical-align: top;\n",
       "    }\n",
       "\n",
       "    .dataframe thead th {\n",
       "        text-align: right;\n",
       "    }\n",
       "</style>\n",
       "<table border=\"1\" class=\"dataframe\">\n",
       "  <thead>\n",
       "    <tr style=\"text-align: right;\">\n",
       "      <th></th>\n",
       "      <th>ID</th>\n",
       "      <th>CPU_LOAD</th>\n",
       "      <th>MEMORY_LOAD</th>\n",
       "      <th>DELAY</th>\n",
       "      <th>ERROR_1000</th>\n",
       "      <th>ERROR_1001</th>\n",
       "      <th>ERROR_1002</th>\n",
       "      <th>ERROR_1003</th>\n",
       "      <th>ROOT_CAUSE</th>\n",
       "    </tr>\n",
       "  </thead>\n",
       "  <tbody>\n",
       "    <tr>\n",
       "      <th>0</th>\n",
       "      <td>1</td>\n",
       "      <td>0</td>\n",
       "      <td>0</td>\n",
       "      <td>0</td>\n",
       "      <td>0</td>\n",
       "      <td>1</td>\n",
       "      <td>0</td>\n",
       "      <td>1</td>\n",
       "      <td>1</td>\n",
       "    </tr>\n",
       "    <tr>\n",
       "      <th>1</th>\n",
       "      <td>2</td>\n",
       "      <td>0</td>\n",
       "      <td>0</td>\n",
       "      <td>0</td>\n",
       "      <td>0</td>\n",
       "      <td>0</td>\n",
       "      <td>0</td>\n",
       "      <td>1</td>\n",
       "      <td>1</td>\n",
       "    </tr>\n",
       "    <tr>\n",
       "      <th>2</th>\n",
       "      <td>3</td>\n",
       "      <td>0</td>\n",
       "      <td>1</td>\n",
       "      <td>1</td>\n",
       "      <td>0</td>\n",
       "      <td>0</td>\n",
       "      <td>1</td>\n",
       "      <td>1</td>\n",
       "      <td>1</td>\n",
       "    </tr>\n",
       "    <tr>\n",
       "      <th>3</th>\n",
       "      <td>4</td>\n",
       "      <td>0</td>\n",
       "      <td>1</td>\n",
       "      <td>0</td>\n",
       "      <td>1</td>\n",
       "      <td>1</td>\n",
       "      <td>0</td>\n",
       "      <td>1</td>\n",
       "      <td>1</td>\n",
       "    </tr>\n",
       "    <tr>\n",
       "      <th>4</th>\n",
       "      <td>5</td>\n",
       "      <td>1</td>\n",
       "      <td>1</td>\n",
       "      <td>0</td>\n",
       "      <td>1</td>\n",
       "      <td>0</td>\n",
       "      <td>1</td>\n",
       "      <td>0</td>\n",
       "      <td>2</td>\n",
       "    </tr>\n",
       "    <tr>\n",
       "      <th>5</th>\n",
       "      <td>6</td>\n",
       "      <td>0</td>\n",
       "      <td>0</td>\n",
       "      <td>1</td>\n",
       "      <td>1</td>\n",
       "      <td>0</td>\n",
       "      <td>0</td>\n",
       "      <td>0</td>\n",
       "      <td>2</td>\n",
       "    </tr>\n",
       "    <tr>\n",
       "      <th>6</th>\n",
       "      <td>7</td>\n",
       "      <td>1</td>\n",
       "      <td>0</td>\n",
       "      <td>0</td>\n",
       "      <td>1</td>\n",
       "      <td>1</td>\n",
       "      <td>0</td>\n",
       "      <td>0</td>\n",
       "      <td>2</td>\n",
       "    </tr>\n",
       "    <tr>\n",
       "      <th>7</th>\n",
       "      <td>8</td>\n",
       "      <td>0</td>\n",
       "      <td>0</td>\n",
       "      <td>0</td>\n",
       "      <td>1</td>\n",
       "      <td>1</td>\n",
       "      <td>0</td>\n",
       "      <td>1</td>\n",
       "      <td>0</td>\n",
       "    </tr>\n",
       "    <tr>\n",
       "      <th>8</th>\n",
       "      <td>9</td>\n",
       "      <td>0</td>\n",
       "      <td>1</td>\n",
       "      <td>0</td>\n",
       "      <td>0</td>\n",
       "      <td>1</td>\n",
       "      <td>0</td>\n",
       "      <td>1</td>\n",
       "      <td>1</td>\n",
       "    </tr>\n",
       "    <tr>\n",
       "      <th>9</th>\n",
       "      <td>10</td>\n",
       "      <td>0</td>\n",
       "      <td>0</td>\n",
       "      <td>0</td>\n",
       "      <td>1</td>\n",
       "      <td>1</td>\n",
       "      <td>0</td>\n",
       "      <td>1</td>\n",
       "      <td>2</td>\n",
       "    </tr>\n",
       "  </tbody>\n",
       "</table>\n",
       "</div>"
      ],
      "text/plain": [
       "   ID  CPU_LOAD  MEMORY_LOAD  DELAY  ERROR_1000  ERROR_1001  ERROR_1002  \\\n",
       "0   1         0            0      0           0           1           0   \n",
       "1   2         0            0      0           0           0           0   \n",
       "2   3         0            1      1           0           0           1   \n",
       "3   4         0            1      0           1           1           0   \n",
       "4   5         1            1      0           1           0           1   \n",
       "5   6         0            0      1           1           0           0   \n",
       "6   7         1            0      0           1           1           0   \n",
       "7   8         0            0      0           1           1           0   \n",
       "8   9         0            1      0           0           1           0   \n",
       "9  10         0            0      0           1           1           0   \n",
       "\n",
       "   ERROR_1003  ROOT_CAUSE  \n",
       "0           1           1  \n",
       "1           1           1  \n",
       "2           1           1  \n",
       "3           1           1  \n",
       "4           0           2  \n",
       "5           0           2  \n",
       "6           0           2  \n",
       "7           1           0  \n",
       "8           1           1  \n",
       "9           1           2  "
      ]
     },
     "execution_count": 10,
     "metadata": {},
     "output_type": "execute_result"
    }
   ],
   "source": [
    "symptom_data.head(10)"
   ]
  },
  {
   "cell_type": "code",
   "execution_count": 11,
   "metadata": {},
   "outputs": [
    {
     "data": {
      "text/plain": [
       "array([[   1.,    0.,    0., ...,    0.,    1.,    1.],\n",
       "       [   2.,    0.,    0., ...,    0.,    1.,    1.],\n",
       "       [   3.,    0.,    1., ...,    1.,    1.,    1.],\n",
       "       ...,\n",
       "       [ 998.,    1.,    1., ...,    0.,    0.,    1.],\n",
       "       [ 999.,    0.,    1., ...,    0.,    0.,    2.],\n",
       "       [1000.,    1.,    0., ...,    1.,    0.,    0.]])"
      ]
     },
     "execution_count": 11,
     "metadata": {},
     "output_type": "execute_result"
    }
   ],
   "source": [
    "# Convert pandas dataframe into numpy vector\n",
    "np_symptom = symptom_data.to_numpy().astype(float)\n",
    "np_symptom"
   ]
  },
  {
   "cell_type": "code",
   "execution_count": 12,
   "metadata": {},
   "outputs": [
    {
     "data": {
      "text/plain": [
       "array([[0., 0., 0., ..., 1., 0., 1.],\n",
       "       [0., 0., 0., ..., 0., 0., 1.],\n",
       "       [0., 1., 1., ..., 0., 1., 1.],\n",
       "       ...,\n",
       "       [1., 1., 1., ..., 0., 0., 0.],\n",
       "       [0., 1., 1., ..., 1., 0., 0.],\n",
       "       [1., 0., 0., ..., 1., 1., 0.]])"
      ]
     },
     "execution_count": 12,
     "metadata": {},
     "output_type": "execute_result"
    }
   ],
   "source": [
    "# Group the feature data\n",
    "X_train = np_symptom[:,1:8]\n",
    "X_train"
   ]
  },
  {
   "cell_type": "code",
   "execution_count": 13,
   "metadata": {},
   "outputs": [
    {
     "data": {
      "text/plain": [
       "array([[0., 1., 0.],\n",
       "       [0., 1., 0.],\n",
       "       [0., 1., 0.],\n",
       "       ...,\n",
       "       [0., 1., 0.],\n",
       "       [0., 0., 1.],\n",
       "       [1., 0., 0.]], dtype=float32)"
      ]
     },
     "execution_count": 13,
     "metadata": {},
     "output_type": "execute_result"
    }
   ],
   "source": [
    "# Group the target variable\n",
    "Y_train = np_symptom[:,8]\n",
    "Y_train = tf.keras.utils.to_categorical(Y_train,3)\n",
    "Y_train"
   ]
  },
  {
   "cell_type": "code",
   "execution_count": 14,
   "metadata": {},
   "outputs": [
    {
     "name": "stdout",
     "output_type": "stream",
     "text": [
      "Feature variable shape : (1000, 7)\n",
      "Target variable shape : (1000, 3)\n"
     ]
    }
   ],
   "source": [
    "print(\"Feature variable shape :\", X_train.shape)\n",
    "print(\"Target variable shape :\", Y_train.shape)\n"
   ]
  },
  {
   "cell_type": "markdown",
   "metadata": {},
   "source": [
    "### Building Model with Keras"
   ]
  },
  {
   "cell_type": "code",
   "execution_count": 15,
   "metadata": {},
   "outputs": [],
   "source": [
    "from tensorflow import keras\n",
    "from tensorflow.keras import optimizers\n",
    "from tensorflow.keras.regularizers import l2"
   ]
  },
  {
   "cell_type": "code",
   "execution_count": 16,
   "metadata": {},
   "outputs": [],
   "source": [
    "# Initialize Training Parameters\n",
    "BATCH_SIZE = 100\n",
    "EPOCHS = 12\n",
    "N_HIDDEN = 128\n",
    "OUTPUT_CLASSES = len(label_encoder.classes_)\n",
    "VALIDATION_SPLIT = 0.2\n",
    "VERBOSE = 1"
   ]
  },
  {
   "cell_type": "code",
   "execution_count": 19,
   "metadata": {},
   "outputs": [
    {
     "name": "stdout",
     "output_type": "stream",
     "text": [
      "Train on 800 samples, validate on 200 samples\n",
      "WARNING:tensorflow:From C:\\Users\\thathrav\\Anaconda3\\lib\\site-packages\\tensorflow\\python\\ops\\math_ops.py:3066: to_int32 (from tensorflow.python.ops.math_ops) is deprecated and will be removed in a future version.\n",
      "Instructions for updating:\n",
      "Use tf.cast instead.\n",
      "Epoch 1/12\n",
      "800/800 [==============================] - 1s 2ms/sample - loss: 1.0076 - acc: 0.6363 - val_loss: 0.9361 - val_acc: 0.7300\n",
      "Epoch 2/12\n",
      "800/800 [==============================] - 0s 37us/sample - loss: 0.8442 - acc: 0.8000 - val_loss: 0.8044 - val_acc: 0.7200\n",
      "Epoch 3/12\n",
      "800/800 [==============================] - 0s 36us/sample - loss: 0.7008 - acc: 0.8100 - val_loss: 0.6924 - val_acc: 0.7300\n",
      "Epoch 4/12\n",
      "800/800 [==============================] - 0s 37us/sample - loss: 0.5782 - acc: 0.8112 - val_loss: 0.6194 - val_acc: 0.7600\n",
      "Epoch 5/12\n",
      "800/800 [==============================] - 0s 39us/sample - loss: 0.4987 - acc: 0.8263 - val_loss: 0.5728 - val_acc: 0.7400\n",
      "Epoch 6/12\n",
      "800/800 [==============================] - 0s 37us/sample - loss: 0.4613 - acc: 0.8288 - val_loss: 0.5577 - val_acc: 0.7500\n",
      "Epoch 7/12\n",
      "800/800 [==============================] - 0s 39us/sample - loss: 0.4409 - acc: 0.8375 - val_loss: 0.5511 - val_acc: 0.7900\n",
      "Epoch 8/12\n",
      "800/800 [==============================] - 0s 37us/sample - loss: 0.4325 - acc: 0.8363 - val_loss: 0.5347 - val_acc: 0.7900\n",
      "Epoch 9/12\n",
      "800/800 [==============================] - 0s 39us/sample - loss: 0.4241 - acc: 0.8500 - val_loss: 0.5344 - val_acc: 0.8000\n",
      "Epoch 10/12\n",
      "800/800 [==============================] - 0s 39us/sample - loss: 0.4199 - acc: 0.8400 - val_loss: 0.5229 - val_acc: 0.8100\n",
      "Epoch 11/12\n",
      "800/800 [==============================] - 0s 39us/sample - loss: 0.4106 - acc: 0.8562 - val_loss: 0.5263 - val_acc: 0.8000\n",
      "Epoch 12/12\n",
      "800/800 [==============================] - 0s 39us/sample - loss: 0.4051 - acc: 0.8550 - val_loss: 0.5223 - val_acc: 0.8000\n"
     ]
    },
    {
     "data": {
      "text/plain": [
       "<tensorflow.python.keras.callbacks.History at 0x254bd9b2b38>"
      ]
     },
     "execution_count": 19,
     "metadata": {},
     "output_type": "execute_result"
    }
   ],
   "source": [
    "# Create Keras sequential model\n",
    "model = tf.keras.models.Sequential()\n",
    "\n",
    "# Add a dense layer\n",
    "model.add(keras.layers.Dense(N_HIDDEN,input_shape = (7,),name='Dense-Layer-1',activation='relu'))\n",
    "\n",
    "# Add a second layer\n",
    "model.add(keras.layers.Dense(N_HIDDEN,name='Dense-Layer-2',activation='relu'))\n",
    "\n",
    "# Add a softmax layer for categorical prediction\n",
    "model.add(keras.layers.Dense(OUTPUT_CLASSES,name='Final',activation='softmax'))\n",
    "\n",
    "# Compile the model using Adam optimizer\n",
    "model.compile(optimizer = 'adam',loss='categorical_crossentropy',metrics=['accuracy'])\n",
    "\n",
    "# Build the model\n",
    "model.fit(X_train,Y_train,batch_size=BATCH_SIZE,epochs=EPOCHS,verbose=VERBOSE,validation_split=VALIDATION_SPLIT)"
   ]
  },
  {
   "cell_type": "code",
   "execution_count": null,
   "metadata": {},
   "outputs": [],
   "source": []
  }
 ],
 "metadata": {
  "kernelspec": {
   "display_name": "Python 3",
   "language": "python",
   "name": "python3"
  },
  "language_info": {
   "codemirror_mode": {
    "name": "ipython",
    "version": 3
   },
   "file_extension": ".py",
   "mimetype": "text/x-python",
   "name": "python",
   "nbconvert_exporter": "python",
   "pygments_lexer": "ipython3",
   "version": "3.6.4"
  }
 },
 "nbformat": 4,
 "nbformat_minor": 2
}
